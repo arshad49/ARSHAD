{
  "nbformat": 4,
  "nbformat_minor": 0,
  "metadata": {
    "colab": {
      "provenance": []
    },
    "kernelspec": {
      "name": "python3",
      "display_name": "Python 3"
    },
    "language_info": {
      "name": "python"
    }
  },
  "cells": [
    {
      "cell_type": "markdown",
      "source": [
        "**1. Write a Python function to accept a string value from the user and display the\n",
        "count of each character in that string. Sample input: Enter a string value:\n",
        "assembly Sample output: a=1, s=2, e=1, m=1, b=1, l=1, y=1 **"
      ],
      "metadata": {
        "id": "T_TfCdC2KXH6"
      }
    },
    {
      "cell_type": "code",
      "metadata": {
        "colab": {
          "base_uri": "https://localhost:8080/",
          "height": 211
        },
        "id": "Y74_Sw--yjab",
        "outputId": "ac00e580-d2a3-475e-edac-1dd6fe177b03"
      },
      "source": [
        "st='jhon'\n",
        "d=len(st)\n",
        "count=0\n",
        "for i in st:\n",
        "  for j in d:\n",
        "    if i==st[j]:\n",
        "      count=count+1"
      ],
      "execution_count": 153,
      "outputs": [
        {
          "output_type": "error",
          "ename": "TypeError",
          "evalue": "'int' object is not iterable",
          "traceback": [
            "\u001b[0;31m---------------------------------------------------------------------------\u001b[0m",
            "\u001b[0;31mTypeError\u001b[0m                                 Traceback (most recent call last)",
            "\u001b[0;32m<ipython-input-153-e9de0c7f0144>\u001b[0m in \u001b[0;36m<cell line: 4>\u001b[0;34m()\u001b[0m\n\u001b[1;32m      3\u001b[0m \u001b[0mcount\u001b[0m\u001b[0;34m=\u001b[0m\u001b[0;36m0\u001b[0m\u001b[0;34m\u001b[0m\u001b[0;34m\u001b[0m\u001b[0m\n\u001b[1;32m      4\u001b[0m \u001b[0;32mfor\u001b[0m \u001b[0mi\u001b[0m \u001b[0;32min\u001b[0m \u001b[0mst\u001b[0m\u001b[0;34m:\u001b[0m\u001b[0;34m\u001b[0m\u001b[0;34m\u001b[0m\u001b[0m\n\u001b[0;32m----> 5\u001b[0;31m   \u001b[0;32mfor\u001b[0m \u001b[0mj\u001b[0m \u001b[0;32min\u001b[0m \u001b[0md\u001b[0m\u001b[0;34m:\u001b[0m\u001b[0;34m\u001b[0m\u001b[0;34m\u001b[0m\u001b[0m\n\u001b[0m\u001b[1;32m      6\u001b[0m     \u001b[0;32mif\u001b[0m \u001b[0mi\u001b[0m\u001b[0;34m==\u001b[0m\u001b[0mst\u001b[0m\u001b[0;34m[\u001b[0m\u001b[0mj\u001b[0m\u001b[0;34m]\u001b[0m\u001b[0;34m:\u001b[0m\u001b[0;34m\u001b[0m\u001b[0;34m\u001b[0m\u001b[0m\n\u001b[1;32m      7\u001b[0m       \u001b[0mcount\u001b[0m\u001b[0;34m=\u001b[0m\u001b[0mcount\u001b[0m\u001b[0;34m+\u001b[0m\u001b[0;36m1\u001b[0m\u001b[0;34m\u001b[0m\u001b[0;34m\u001b[0m\u001b[0m\n",
            "\u001b[0;31mTypeError\u001b[0m: 'int' object is not iterable"
          ]
        }
      ]
    },
    {
      "cell_type": "markdown",
      "source": [
        "**2. Write a Python function to find the maximum of three numbers Sample input:\n",
        "34,12,7 Sample output: 34 **"
      ],
      "metadata": {
        "id": "DaXihALlKg-R"
      }
    },
    {
      "cell_type": "code",
      "source": [
        "import math\n",
        "a=int(input('enter the number'))\n",
        "b=int(input('enter the number'))\n",
        "c=int(input('enter the number'))\n",
        "print(max(a,b,c))"
      ],
      "metadata": {
        "colab": {
          "base_uri": "https://localhost:8080/"
        },
        "id": "Sre2b8fXKflg",
        "outputId": "5148b537-b724-4a5d-ef02-17f9b407656d"
      },
      "execution_count": 41,
      "outputs": [
        {
          "output_type": "stream",
          "name": "stdout",
          "text": [
            "enter the number5\n",
            "enter the number9\n",
            "enter the number65\n",
            "65\n"
          ]
        }
      ]
    },
    {
      "cell_type": "markdown",
      "source": [
        "**3. Write a Python function called exponent(base,exp) that returns an integer\n",
        "value of base raises to the power of exp. Sample input: Enter the base: 2\n",
        "Enter the exponent: 3 Sample output: 8 **"
      ],
      "metadata": {
        "id": "SgurRt-ALD8v"
      }
    },
    {
      "cell_type": "code",
      "source": [
        "def expo(x,y):\n",
        "  print(num1**num2)\n",
        "num1=int(input('enter the base:'))\n",
        "num2=int(input('enter the exponent'))\n",
        "expo(num1,num2)\n"
      ],
      "metadata": {
        "colab": {
          "base_uri": "https://localhost:8080/"
        },
        "id": "p4-eO6ZXLBS4",
        "outputId": "dc3032d3-b419-484e-ceb4-79623c9684c0"
      },
      "execution_count": 145,
      "outputs": [
        {
          "output_type": "stream",
          "name": "stdout",
          "text": [
            "enter the base:2\n",
            "enter the exponent3\n",
            "8\n"
          ]
        }
      ]
    },
    {
      "cell_type": "markdown",
      "source": [
        "**4. Write a Python function that takes a positive integer and returns the sum of\n",
        "the cube of all the positive integers smaller than the specified number.\n",
        "Sample input: 4 Sample output: 36**"
      ],
      "metadata": {
        "id": "KlnGCvFkLizZ"
      }
    },
    {
      "cell_type": "code",
      "source": [
        "import math\n",
        "def cube(x):\n",
        "  at=0\n",
        "  for i in range(1,x):\n",
        "    at=at+i**3\n",
        "\n",
        "  print(at)\n",
        "\n",
        "a=int(input('enter the number'))\n",
        "if a<0:\n",
        "  print('enter  a positive number')\n",
        "else:\n",
        "  cube(a)"
      ],
      "metadata": {
        "colab": {
          "base_uri": "https://localhost:8080/"
        },
        "id": "PiHUQzelLihB",
        "outputId": "82258cad-2c2b-4311-995d-5157814eadb0"
      },
      "execution_count": 144,
      "outputs": [
        {
          "output_type": "stream",
          "name": "stdout",
          "text": [
            "enter the number4\n",
            "36\n"
          ]
        }
      ]
    },
    {
      "cell_type": "code",
      "source": [
        "1**3+2**3+3**3\n"
      ],
      "metadata": {
        "colab": {
          "base_uri": "https://localhost:8080/"
        },
        "id": "29L6G4F5dOBu",
        "outputId": "bdcc987b-9701-4e30-90e9-01d676f6dbcd"
      },
      "execution_count": 136,
      "outputs": [
        {
          "output_type": "execute_result",
          "data": {
            "text/plain": [
              "36"
            ]
          },
          "metadata": {},
          "execution_count": 136
        }
      ]
    },
    {
      "cell_type": "markdown",
      "source": [
        "**5. Write a Python program which iterates from 1 to 10. For multiples of 2, print\n",
        "“Fizz” instead of the number and for the multiples of 5, print “Buzz”. For\n",
        "numbers which are multiples of both 2 and 5, print “FizzBuzz”. Sample input:\n",
        "numbers from 1 to 10 Sample output: 1 Fizz 3 Fizz Buzz Fizz 7 Fizz 9\n",
        "FizzBuzz **"
      ],
      "metadata": {
        "id": "j2UwKif9MCVZ"
      }
    },
    {
      "cell_type": "code",
      "source": [
        "n=10\n",
        "for i in range(1,11):\n",
        "\n",
        "    if i%2==0:\n",
        "     print('fizz')\n",
        "    if i%5==0:\n",
        "     print('buzz')\n",
        "    if i%2==0 and i%5==0:\n",
        "        print('fizzbuzz')"
      ],
      "metadata": {
        "colab": {
          "base_uri": "https://localhost:8080/"
        },
        "id": "z1Hp5gjIMCJh",
        "outputId": "225103f6-d956-494e-b750-10f99abcca55"
      },
      "execution_count": 135,
      "outputs": [
        {
          "output_type": "stream",
          "name": "stdout",
          "text": [
            "fizz\n",
            "fizz\n",
            "buzz\n",
            "fizz\n",
            "fizz\n",
            "fizz\n",
            "buzz\n",
            "fizzbuzz\n"
          ]
        }
      ]
    },
    {
      "cell_type": "markdown",
      "source": [
        "**8. Write a Python program using for loop that will iterate from 1 to 15. For each\n",
        "iteration, check if the current number is odd or even, and display the message\n",
        "to the screen as odd or even. Sample input: 1….15 Sample output: 1-odd 2-\n",
        "even …. 15-odd **"
      ],
      "metadata": {
        "id": "lOfbvGDYWCMa"
      }
    },
    {
      "cell_type": "code",
      "source": [
        "for i in range(1,16):\n",
        "  if i%2==0:\n",
        "    print(i,'-odd')\n",
        "  else:\n",
        "    print(i,'-even')"
      ],
      "metadata": {
        "colab": {
          "base_uri": "https://localhost:8080/"
        },
        "id": "aQ_xULreWB4i",
        "outputId": "d2ee9c99-fd75-4b8b-92df-f3511dc7a3de"
      },
      "execution_count": 40,
      "outputs": [
        {
          "output_type": "stream",
          "name": "stdout",
          "text": [
            "1 -even\n",
            "2 -odd\n",
            "3 -even\n",
            "4 -odd\n",
            "5 -even\n",
            "6 -odd\n",
            "7 -even\n",
            "8 -odd\n",
            "9 -even\n",
            "10 -odd\n",
            "11 -even\n",
            "12 -odd\n",
            "13 -even\n",
            "14 -odd\n",
            "15 -even\n"
          ]
        }
      ]
    },
    {
      "cell_type": "markdown",
      "source": [
        "**9. Write a Python function to convert temperatures to and from Celsius\n",
        "Fahrenheit. [Formula: c/5=f-32/9 where c=temperature in Celsius and f=\n",
        "temperature in Fahrenheit.] Sample input: Temperature in Fahrenheit =41\n",
        "Sample output: Temperature in Celsius =5 **"
      ],
      "metadata": {
        "id": "xWq7LCbAWnlz"
      }
    },
    {
      "cell_type": "code",
      "source": [
        "def far():\n",
        "  c=int(input('enter celsuis'))\n",
        "  F = (c * 9/5) + 32.\n",
        "  print(F)\n",
        "\n",
        "\n",
        "def cel():\n",
        "  f=int(input('enter farhenhiet'))\n",
        "  C= (f - 32) * 5/9\n",
        "  print( C)\n",
        "\n",
        "print('choose to convert')\n",
        "print('to farenhiet 1 \\nto celsuis 2')\n",
        "a=int(input('enter the option'))\n",
        "if a==1:\n",
        "  far()\n",
        "elif a==2:\n",
        "  cel()\n",
        "else:\n",
        "  print('enter the valid option')\n",
        "\n",
        "\n",
        ""
      ],
      "metadata": {
        "colab": {
          "base_uri": "https://localhost:8080/"
        },
        "id": "yM_mBs8TNhl6",
        "outputId": "2b90a027-5094-4152-c8b5-7a175816df71"
      },
      "execution_count": 75,
      "outputs": [
        {
          "output_type": "stream",
          "name": "stdout",
          "text": [
            "choose to convert\n",
            "to farenhiet 1 \n",
            "to celsuis 2\n",
            "enter the option1\n",
            "enter celsuis323\n",
            "613.4\n"
          ]
        }
      ]
    },
    {
      "cell_type": "markdown",
      "source": [
        "**10.Write a Python function to calculate the factorial of a number (a nonnegative\n",
        "integer). The function accepts the number as an argument. Sample input: 3\n",
        "Sample output: 6 **"
      ],
      "metadata": {
        "id": "V8yipWyBZdLD"
      }
    },
    {
      "cell_type": "code",
      "source": [
        "def fact(n):\n",
        "  num=1\n",
        "  for i in range(1,n + 1):\n",
        "    num *= i\n",
        "  return num\n",
        "\n",
        "\n",
        "num=int(input('enter number'))\n",
        "print('the factorial of the given number is,',fact(num))\n",
        "\n"
      ],
      "metadata": {
        "colab": {
          "base_uri": "https://localhost:8080/"
        },
        "id": "dBmEwjejZZ1L",
        "outputId": "9249e7b7-4576-4a91-c529-0670b2566712"
      },
      "execution_count": 76,
      "outputs": [
        {
          "output_type": "stream",
          "name": "stdout",
          "text": [
            "enter number3\n",
            "the factorial of the given number is, 6\n"
          ]
        }
      ]
    },
    {
      "cell_type": "markdown",
      "source": [
        "**7.Write a Python function to find the sum of squares of the numbers in a list.\n",
        "Sample input: 2,1,3,1 Sample output: 15**"
      ],
      "metadata": {
        "id": "c76Zr9ZeePvd"
      }
    },
    {
      "cell_type": "code",
      "source": [
        "def sqr_list(x):\n",
        "  a=0\n",
        "  for i in x:\n",
        "    a=a+i**2\n",
        "  print(a)\n",
        "\n",
        "a=[1,2,1,3]\n",
        "sqr_list(a)"
      ],
      "metadata": {
        "colab": {
          "base_uri": "https://localhost:8080/"
        },
        "id": "iuSeNg1YbhQk",
        "outputId": "c88d0bbc-08e6-402f-89d0-53a5ff4d9e56"
      },
      "execution_count": 165,
      "outputs": [
        {
          "output_type": "stream",
          "name": "stdout",
          "text": [
            "15\n"
          ]
        }
      ]
    },
    {
      "cell_type": "markdown",
      "source": [
        "**6. Write a Python function to find the most frequent item in a list of numbers.\n",
        "Sample input: 2, 3, 4, 2, 5, 2 Sample output: 2 **"
      ],
      "metadata": {
        "id": "BrI4Kh-bgr5t"
      }
    },
    {
      "cell_type": "markdown",
      "source": [
        "**case study**"
      ],
      "metadata": {
        "id": "Rq4rOQy8sLzp"
      }
    },
    {
      "cell_type": "code",
      "source": [
        "'''\n",
        "1.Case Study: Grade Calculator\n",
        "In this case study, you have to create a program that calculates the final\n",
        "grade for a student based on their scores in different assessments. The\n",
        "program will take input from the user, perform calculations, and display the\n",
        "final grade along with additional information.\n",
        "Requirements:\n",
        "1. The program should prompt the user to enter the following information:\n",
        "• Student's name\n",
        "• Number of assessments (e.g., assignments, quizzes, exams)\n",
        "• Weight (percentage) of each assessment type\n",
        "2. For each assessment type, the program should ask the user to enter:\n",
        "• Number of assessments of that type\n",
        "• Score obtained for each assessment.\n",
        "3. The program should calculate the weighted average score for each\n",
        "assessment type.\n",
        "4. The program should then calculate the final grade using the weighted\n",
        "average scores and the weights provided by the user.\n",
        "5. The program should display the following information:\n",
        "• Student's name\n",
        "• Weighted average score for each assessment type\n",
        "• Final grade\n",
        "• Letter grade based on a grading scale (e.g., A, B, C, D, F)\n",
        "6. The program should have a function to determine the letter grade based\n",
        "on the final grade.\n",
        "'''\n",
        "print('********GRADE CALCULATOR******')\n",
        "lits_assment=[]\n",
        "def cal():\n",
        "    name_assment=input('assessment  name')\n",
        "    assign=int(input(\"enter the score\"))\n",
        "    quiz=int(input(\"enter the score\"))\n",
        "    exams=int(input(\"enter the score\"))\n",
        "    lists_assment.append(assign,quiz,exams)\n",
        "def infostd():\n",
        "  name=input('enter the name')\n",
        "  no_assessment=int(input('number of assessment attended'))\n",
        "  for i in range(0,no_assessment):\n",
        "      cal()\n",
        "\n",
        "\n",
        "\n",
        "\n",
        "\n"
      ],
      "metadata": {
        "colab": {
          "base_uri": "https://localhost:8080/"
        },
        "id": "xKkHh2JtsYEg",
        "outputId": "30a0473f-0109-4608-9d0c-079010818fc4"
      },
      "execution_count": 162,
      "outputs": [
        {
          "output_type": "stream",
          "name": "stdout",
          "text": [
            "********GRADE CALCULATOR******\n"
          ]
        }
      ]
    },
    {
      "cell_type": "code",
      "source": [
        "'''\n",
        "12.Case Study: Student Record Management System\n",
        "In this case study, you will create a program that manages student records for\n",
        "a school or college. The program will allow the user (e.g., an administrator) to\n",
        "perform various operations on student data, such as adding new students,\n",
        "updating existing student information, and displaying student records.\n",
        "Requirements:\n",
        "1. The program should have a menu-driven interface that displays the\n",
        "following options:\n",
        "• Add a new student\n",
        "• Update student information\n",
        "• Display student records\n",
        "• Exit the program\n",
        "2. When adding a new student, the program should prompt the user to enter\n",
        "the following information:\n",
        "• Student ID (unique identifier)\n",
        "• Student name\n",
        "• Grade level (e.g., 9, 10, 11, 12)\n",
        "• GPA (Grade Point Average)\n",
        "3. When updating student information, the program should prompt the user\n",
        "to enter the student ID and then allow them to update the student's name,\n",
        "grade level, or GPA.\n",
        "4. When displaying student records, the program should provide options to:\n",
        "• Display all student records\n",
        "• Display records for a specific grade level\n",
        "• Display records for students with a GPA above a certain threshold\n",
        "5. The program should use appropriate data structures (e.g., lists,\n",
        "dictionaries) to store and manage student records.\n",
        "6. The program should have functions to perform the various operations\n",
        "(adding, updating, displaying) on student records.\n",
        "7. The program should handle errors and invalid inputs gracefully.\n",
        "'''\n",
        "l=[]\n",
        "list1=[]\n",
        "list3=[]\n",
        "list4=[]\n",
        "def new_std():\n",
        "  a=int(input(\"enter the no of student to be eneterd\"))\n",
        "  for i in range(0,a):\n",
        "    std_id=int(input(\"enter the id no\"))\n",
        "    std_name=input(\"enter name\")\n",
        "    std_grad=int(input('enter the grade'))\n",
        "    std_gpa=int(input('enter the gpa'))\n",
        "    list1.append(std_id)\n",
        "    l=[[std_name],[std_grad],[std_gpa]]\n",
        "\n",
        "def upd_std():\n",
        "   std_upd=int(input('enter the id'))\n",
        "   for i in l:\n",
        "    if l[0][0]==std_upd:\n",
        "      a=input(\"to update name 1\")\n",
        "      b=input(\"to update grade 2\")\n",
        "      c=input(\"to update gpa 3\")\n",
        "      if a==1:\n",
        "        l[i]\n",
        "\n"
      ],
      "metadata": {
        "colab": {
          "base_uri": "https://localhost:8080/",
          "height": 106
        },
        "id": "1NmctgibxtCZ",
        "outputId": "d0fc55f0-0d6b-40cf-c8e9-981cd66de9a7"
      },
      "execution_count": 163,
      "outputs": [
        {
          "output_type": "error",
          "ename": "SyntaxError",
          "evalue": "invalid syntax (<ipython-input-163-0a27d20351a6>, line 37)",
          "traceback": [
            "\u001b[0;36m  File \u001b[0;32m\"<ipython-input-163-0a27d20351a6>\"\u001b[0;36m, line \u001b[0;32m37\u001b[0m\n\u001b[0;31m    global std_id=int(input(\"enter the id no\"))\u001b[0m\n\u001b[0m                 ^\u001b[0m\n\u001b[0;31mSyntaxError\u001b[0m\u001b[0;31m:\u001b[0m invalid syntax\n"
          ]
        }
      ]
    }
  ]
}